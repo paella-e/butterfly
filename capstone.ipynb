{
  "nbformat": 4,
  "nbformat_minor": 0,
  "metadata": {
    "colab": {
      "provenance": [],
      "mount_file_id": "1RdHTOQrxNIFNpu3znDxWTNd4AtEDYyGI",
      "authorship_tag": "ABX9TyN21Zri6/hELXCMRRixIJtl",
      "include_colab_link": true
    },
    "kernelspec": {
      "name": "python3",
      "display_name": "Python 3"
    },
    "language_info": {
      "name": "python"
    }
  },
  "cells": [
    {
      "cell_type": "markdown",
      "metadata": {
        "id": "view-in-github",
        "colab_type": "text"
      },
      "source": [
        "<a href=\"https://colab.research.google.com/github/paella-e/butterfly/blob/main/capstone.ipynb\" target=\"_parent\"><img src=\"https://colab.research.google.com/assets/colab-badge.svg\" alt=\"Open In Colab\"/></a>"
      ]
    },
    {
      "cell_type": "code",
      "execution_count": null,
      "metadata": {
        "id": "e-CzE5kL0TQQ"
      },
      "outputs": [],
      "source": []
    },
    {
      "cell_type": "markdown",
      "source": [
        "# Butterfly Classification Notebook\n",
        "\n",
        "This notebook builds a butterfly classification model. There are 75 different classifications.\n",
        "\n",
        "Data: [Butterfly Image Classification](https://www.kaggle.com/datasets/phucthaiv02/butterfly-image-classification) dataset from Kaggle\n"
      ],
      "metadata": {
        "id": "0GliUrJothpw"
      }
    },
    {
      "cell_type": "code",
      "source": [
        "# Run this if you need to unzip the dataset zip file\n",
        "#!unzip \"/content/drive/MyDrive/Butterfly/archive.zip\" -d \"/content/drive/MyDrive/Butterfly/\""
      ],
      "metadata": {
        "id": "xjKcO2MQ5L5j"
      },
      "execution_count": 8,
      "outputs": []
    },
    {
      "cell_type": "code",
      "source": [],
      "metadata": {
        "id": "8JDCpYfB5t2c"
      },
      "execution_count": null,
      "outputs": []
    }
  ]
}