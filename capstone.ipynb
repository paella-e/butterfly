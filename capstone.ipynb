{
  "nbformat": 4,
  "nbformat_minor": 0,
  "metadata": {
    "colab": {
      "provenance": [],
      "collapsed_sections": [
        "BdbotZ2-B_Bn"
      ],
      "toc_visible": true,
      "gpuType": "T4",
      "mount_file_id": "1RdHTOQrxNIFNpu3znDxWTNd4AtEDYyGI",
      "authorship_tag": "ABX9TyN+ikEsPyXV5dw9WNL3TLQ9",
      "include_colab_link": true
    },
    "kernelspec": {
      "name": "python3",
      "display_name": "Python 3"
    },
    "language_info": {
      "name": "python"
    },
    "accelerator": "GPU"
  },
  "cells": [
    {
      "cell_type": "markdown",
      "metadata": {
        "id": "view-in-github",
        "colab_type": "text"
      },
      "source": [
        "<a href=\"https://colab.research.google.com/github/paella-e/butterfly/blob/main/capstone.ipynb\" target=\"_parent\"><img src=\"https://colab.research.google.com/assets/colab-badge.svg\" alt=\"Open In Colab\"/></a>"
      ]
    },
    {
      "cell_type": "markdown",
      "source": [],
      "metadata": {
        "id": "-A217PxpDVqB"
      }
    },
    {
      "cell_type": "code",
      "execution_count": null,
      "metadata": {
        "id": "e-CzE5kL0TQQ"
      },
      "outputs": [],
      "source": []
    },
    {
      "cell_type": "markdown",
      "source": [
        "# 00. Butterfly Classification Notebook Overview\n",
        "\n",
        "This notebook builds a butterfly classification model. There are 75 different classifications.\n",
        "\n",
        "**Data**: [Butterfly Image Classification](https://www.kaggle.com/datasets/phucthaiv02/butterfly-image-classification) dataset from Kaggle.\n",
        "\n",
        "* There are 6,499 labeled images in the training set.\n",
        "* There are 2,786 unlabeled images in the test set.\n"
      ],
      "metadata": {
        "id": "0GliUrJothpw"
      }
    },
    {
      "cell_type": "markdown",
      "source": [
        "## 01. Getting the Notebook ready: Utilize GPU & Import necessary libraries\n",
        "\n",
        "This notebook uses TensorFlow libraries to train our model. This requires imports. Additionally, Machine Learning applications benefit from running on a GPU rather than CPU, so we will want to change our Runtime environment."
      ],
      "metadata": {
        "id": "nDXSukO1Dhix"
      }
    },
    {
      "cell_type": "code",
      "source": [
        "# Change Runtime from CPU > GPU\n",
        "# In Google Colab, go to Runtime > Change runtime type > GPU\n",
        "# This notebook was made with the T4 GPU option\n",
        "\n",
        "# Import TensorFlow and TensorFlow Hub\n",
        "import tensorflow as tf\n",
        "import tensorflow_hub as hub\n",
        "\n",
        "# Confirm we have succesfully changed our untime to use a GPU.\n",
        "print(\"Success: Using GPU\") if tf.config.list_physical_devices() else \"Warning: not using GPU\""
      ],
      "metadata": {
        "colab": {
          "base_uri": "https://localhost:8080/"
        },
        "id": "ij4pKkudC0D-",
        "outputId": "e8b81246-8dd2-4622-8cc8-e241bc579c19"
      },
      "execution_count": 4,
      "outputs": [
        {
          "output_type": "stream",
          "name": "stdout",
          "text": [
            "Success: Using GPU\n"
          ]
        }
      ]
    },
    {
      "cell_type": "markdown",
      "source": [
        "## 02. Getting the data ready to use in Google Colab\n",
        "\n",
        "1. Download the [Butterfly Image Classificaiton](https://www.kaggle.com/competitions/cloud-recognition/data) dataset from Kaggle.\n",
        "2. Upload the zip file to Google Drive\n",
        "  * If you cannot use Google Drive, you can upload the data directly to the session, however it will expire with the session and need to be re-uploaded in every subsequent session.\n",
        "3. Unzip it with the following command:\n",
        "> !unzip \"*ZIP FILE LOCATION*\" -d \"*DESTINATION PATH*\"\n",
        "\n"
      ],
      "metadata": {
        "id": "BdbotZ2-B_Bn"
      }
    },
    {
      "cell_type": "code",
      "source": [
        "# Remove the hashtag symbol at the start of the line below and then re-run the cell to run the unzip command if needed\n",
        "#!unzip \"/content/drive/MyDrive/Butterfly/archive.zip\" -d \"/content/drive/MyDrive/Butterfly/\""
      ],
      "metadata": {
        "id": "xjKcO2MQ5L5j"
      },
      "execution_count": 15,
      "outputs": []
    },
    {
      "cell_type": "code",
      "source": [],
      "metadata": {
        "id": "Zza-OI-FFEtY"
      },
      "execution_count": null,
      "outputs": []
    }
  ]
}